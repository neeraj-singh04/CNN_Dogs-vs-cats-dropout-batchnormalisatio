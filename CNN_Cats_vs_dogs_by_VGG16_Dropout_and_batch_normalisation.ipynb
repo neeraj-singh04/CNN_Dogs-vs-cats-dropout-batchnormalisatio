{
 "cells": [
  {
   "cell_type": "code",
   "execution_count": 1,
   "metadata": {
    "colab": {
     "base_uri": "https://localhost:8080/",
     "height": 540
    },
    "colab_type": "code",
    "id": "zeAxn9q72uBf",
    "outputId": "066142f7-0b3e-4740-e2f0-0bdf60dbe7c7"
   },
   "outputs": [
    {
     "name": "stdout",
     "output_type": "stream",
     "text": [
      "Collecting tensorflow-gpu==2.0.0-rc0\n",
      "\u001b[?25l  Downloading https://files.pythonhosted.org/packages/6a/12/8c64cc62149cc21c70c55018502831bbf4d42bd62bed196df7de6830d21b/tensorflow_gpu-2.0.0rc0-cp36-cp36m-manylinux2010_x86_64.whl (380.5MB)\n",
      "\u001b[K     |████████████████████████████████| 380.5MB 42kB/s \n",
      "\u001b[?25hRequirement already satisfied: keras-preprocessing>=1.0.5 in /usr/local/lib/python3.6/dist-packages (from tensorflow-gpu==2.0.0-rc0) (1.1.0)\n",
      "Requirement already satisfied: wrapt>=1.11.1 in /usr/local/lib/python3.6/dist-packages (from tensorflow-gpu==2.0.0-rc0) (1.11.2)\n",
      "Requirement already satisfied: wheel>=0.26 in /usr/local/lib/python3.6/dist-packages (from tensorflow-gpu==2.0.0-rc0) (0.33.6)\n",
      "Requirement already satisfied: protobuf>=3.6.1 in /usr/local/lib/python3.6/dist-packages (from tensorflow-gpu==2.0.0-rc0) (3.10.0)\n",
      "Collecting tf-estimator-nightly<1.14.0.dev2019080602,>=1.14.0.dev2019080601\n",
      "\u001b[?25l  Downloading https://files.pythonhosted.org/packages/21/28/f2a27a62943d5f041e4a6fd404b2d21cb7c59b2242a4e73b03d9ba166552/tf_estimator_nightly-1.14.0.dev2019080601-py2.py3-none-any.whl (501kB)\n",
      "\u001b[K     |████████████████████████████████| 501kB 42.3MB/s \n",
      "\u001b[?25hRequirement already satisfied: grpcio>=1.8.6 in /usr/local/lib/python3.6/dist-packages (from tensorflow-gpu==2.0.0-rc0) (1.15.0)\n",
      "Requirement already satisfied: astor>=0.6.0 in /usr/local/lib/python3.6/dist-packages (from tensorflow-gpu==2.0.0-rc0) (0.8.1)\n",
      "Requirement already satisfied: keras-applications>=1.0.8 in /usr/local/lib/python3.6/dist-packages (from tensorflow-gpu==2.0.0-rc0) (1.0.8)\n",
      "Requirement already satisfied: gast>=0.2.0 in /usr/local/lib/python3.6/dist-packages (from tensorflow-gpu==2.0.0-rc0) (0.2.2)\n",
      "Requirement already satisfied: google-pasta>=0.1.6 in /usr/local/lib/python3.6/dist-packages (from tensorflow-gpu==2.0.0-rc0) (0.1.8)\n",
      "Requirement already satisfied: termcolor>=1.1.0 in /usr/local/lib/python3.6/dist-packages (from tensorflow-gpu==2.0.0-rc0) (1.1.0)\n",
      "Requirement already satisfied: absl-py>=0.7.0 in /usr/local/lib/python3.6/dist-packages (from tensorflow-gpu==2.0.0-rc0) (0.9.0)\n",
      "Requirement already satisfied: six>=1.10.0 in /usr/local/lib/python3.6/dist-packages (from tensorflow-gpu==2.0.0-rc0) (1.12.0)\n",
      "Requirement already satisfied: opt-einsum>=2.3.2 in /usr/local/lib/python3.6/dist-packages (from tensorflow-gpu==2.0.0-rc0) (3.1.0)\n",
      "Requirement already satisfied: numpy<2.0,>=1.16.0 in /usr/local/lib/python3.6/dist-packages (from tensorflow-gpu==2.0.0-rc0) (1.17.5)\n",
      "Collecting tb-nightly<1.15.0a20190807,>=1.15.0a20190806\n",
      "\u001b[?25l  Downloading https://files.pythonhosted.org/packages/bc/88/24b5fb7280e74c7cf65bde47c171547fd02afb3840cff41bcbe9270650f5/tb_nightly-1.15.0a20190806-py3-none-any.whl (4.3MB)\n",
      "\u001b[K     |████████████████████████████████| 4.3MB 41.2MB/s \n",
      "\u001b[?25hRequirement already satisfied: setuptools in /usr/local/lib/python3.6/dist-packages (from protobuf>=3.6.1->tensorflow-gpu==2.0.0-rc0) (42.0.2)\n",
      "Requirement already satisfied: h5py in /usr/local/lib/python3.6/dist-packages (from keras-applications>=1.0.8->tensorflow-gpu==2.0.0-rc0) (2.8.0)\n",
      "Requirement already satisfied: markdown>=2.6.8 in /usr/local/lib/python3.6/dist-packages (from tb-nightly<1.15.0a20190807,>=1.15.0a20190806->tensorflow-gpu==2.0.0-rc0) (3.1.1)\n",
      "Requirement already satisfied: werkzeug>=0.11.15 in /usr/local/lib/python3.6/dist-packages (from tb-nightly<1.15.0a20190807,>=1.15.0a20190806->tensorflow-gpu==2.0.0-rc0) (0.16.0)\n",
      "Installing collected packages: tf-estimator-nightly, tb-nightly, tensorflow-gpu\n",
      "Successfully installed tb-nightly-1.15.0a20190806 tensorflow-gpu-2.0.0rc0 tf-estimator-nightly-1.14.0.dev2019080601\n"
     ]
    }
   ],
   "source": [
    "!pip install tensorflow-gpu==2.0.0-rc0"
   ]
  },
  {
   "cell_type": "markdown",
   "metadata": {
    "colab": {},
    "colab_type": "code",
    "id": "v9totPL-WksP"
   },
   "source": [
    "## Dropout \n",
    "##### Dropout is a technique where randomly selected neurons are ignored during training. They are “dropped-out” randomly. This means that their contribution to the activation of downstream neurons is temporally removed on the forward pass and any weight updates are not applied to the neuron on the backward pass."
   ]
  },
  {
   "cell_type": "markdown",
   "metadata": {
    "colab": {
     "base_uri": "https://localhost:8080/",
     "height": 52
    },
    "colab_type": "code",
    "id": "-jX6UzHlXT-C",
    "outputId": "be28a7ff-1d61-4e23-dd07-6547c3a2007f"
   },
   "source": [
    "![alt text](http://perso.mines-paristech.fr/fabien.moutarde/ES_MachineLearning/TP_convNets/drop.png)"
   ]
  },
  {
   "cell_type": "markdown",
   "metadata": {
    "colab": {
     "base_uri": "https://localhost:8080/",
     "height": 52
    },
    "colab_type": "code",
    "id": "TqbDZXqfXfQc",
    "outputId": "6df0cce2-4e53-4a80-f141-af436e7fd4a2"
   },
   "source": [
    "![alt text](https://miro.medium.com/max/935/1*4T4y3kI0R9Alk_2pe6B4Pg.png)\n"
   ]
  },
  {
   "cell_type": "markdown",
   "metadata": {
    "colab": {
     "base_uri": "https://localhost:8080/",
     "height": 52
    },
    "colab_type": "code",
    "id": "zdA1NObPXl59",
    "outputId": "5005b958-3f45-41e8-cfb6-8600b8f23866"
   },
   "source": [
    "![alt text](https://miro.medium.com/max/886/1*WRio7MD4JDeLww-CyrxEbg.png)"
   ]
  },
  {
   "cell_type": "markdown",
   "metadata": {
    "colab": {},
    "colab_type": "code",
    "id": "6b7cMfxoXprm"
   },
   "source": [
    "## Normalization brings all the inputs centered around 0. This way, there is not much change in each layer input. So, layers in the network can learn from the back-propagation simultaneously, without waiting for the previous layer to learn. This fastens up the training of networks."
   ]
  },
  {
   "cell_type": "markdown",
   "metadata": {
    "colab": {
     "base_uri": "https://localhost:8080/",
     "height": 131
    },
    "colab_type": "code",
    "id": "XNghRPlDXtNs",
    "outputId": "6d7138c5-6787-4035-e4a1-ea9b8eb74347"
   },
   "source": [
    "<img src = \"https://miro.medium.com/max/3840/1*oB3S5yHHhvougJkPXuc8og.gif\">"
   ]
  },
  {
   "cell_type": "markdown",
   "metadata": {
    "colab": {
     "base_uri": "https://localhost:8080/",
     "height": 52
    },
    "colab_type": "code",
    "id": "ZTO_2rnCX1XC",
    "outputId": "74c49822-2e69-4a82-a93b-1c5f78042711"
   },
   "source": [
    "# VGG16 Model\n",
    "\n",
    "![alt text](https://qph.fs.quoracdn.net/main-qimg-e657c195fc2696c7d5fc0b1e3682fde6)\n"
   ]
  },
  {
   "cell_type": "code",
   "execution_count": 0,
   "metadata": {
    "colab": {},
    "colab_type": "code",
    "id": "EyaBHEj-X18T"
   },
   "outputs": [],
   "source": []
  },
  {
   "cell_type": "code",
   "execution_count": 2,
   "metadata": {
    "colab": {
     "base_uri": "https://localhost:8080/",
     "height": 35
    },
    "colab_type": "code",
    "id": "SpTUshi83DOk",
    "outputId": "5ca652cf-67b1-4032-cf18-69ff2cc33417"
   },
   "outputs": [
    {
     "name": "stdout",
     "output_type": "stream",
     "text": [
      "2.0.0-rc0\n"
     ]
    }
   ],
   "source": [
    "import tensorflow as tf\n",
    "from tensorflow import keras\n",
    "from tensorflow.keras import Sequential\n",
    "from tensorflow.keras.layers import Dense, Flatten, Dropout , Conv2D, MaxPool2D, ZeroPadding2D, BatchNormalization\n",
    "from tensorflow.keras.preprocessing.image import ImageDataGenerator\n",
    "from tensorflow.keras.optimizers import SGD\n",
    "print(tf.__version__)"
   ]
  },
  {
   "cell_type": "code",
   "execution_count": 0,
   "metadata": {
    "colab": {},
    "colab_type": "code",
    "id": "_QR4FU-xXzvj"
   },
   "outputs": [],
   "source": []
  },
  {
   "cell_type": "code",
   "execution_count": 0,
   "metadata": {
    "colab": {},
    "colab_type": "code",
    "id": "g9yY1AX-Xr0a"
   },
   "outputs": [],
   "source": []
  },
  {
   "cell_type": "code",
   "execution_count": 0,
   "metadata": {
    "colab": {},
    "colab_type": "code",
    "id": "gOP6CxXv4Cxj"
   },
   "outputs": [],
   "source": [
    "import numpy as np\n",
    "import matplotlib.pyplot as plt\n"
   ]
  },
  {
   "cell_type": "code",
   "execution_count": 4,
   "metadata": {
    "colab": {
     "base_uri": "https://localhost:8080/",
     "height": 156
    },
    "colab_type": "code",
    "id": "ztaozLOw4L-R",
    "outputId": "32aba9a5-09cc-4f46-ba69-dbf747544f35"
   },
   "outputs": [
    {
     "name": "stdout",
     "output_type": "stream",
     "text": [
      "Cloning into 'dog-cat-full-dataset'...\n",
      "remote: Enumerating objects: 25027, done.\u001b[K\n",
      "remote: Counting objects: 100% (25027/25027), done.\u001b[K\n",
      "remote: Compressing objects: 100% (25022/25022), done.\u001b[K\n",
      "remote: Total 25027 (delta 5), reused 25020 (delta 3), pack-reused 0\n",
      "Receiving objects: 100% (25027/25027), 541.62 MiB | 42.62 MiB/s, done.\n",
      "Resolving deltas: 100% (5/5), done.\n",
      "Checking out files: 100% (25001/25001), done.\n"
     ]
    }
   ],
   "source": [
    "!git clone https://github.com/laxmimerit/dog-cat-full-dataset.git"
   ]
  },
  {
   "cell_type": "code",
   "execution_count": 0,
   "metadata": {
    "colab": {},
    "colab_type": "code",
    "id": "0AA8cPH94QSO"
   },
   "outputs": [],
   "source": [
    "test_data_dir = '/content/dog-cat-full-dataset/data/test'\n",
    "train_data_dir = '/content/dog-cat-full-dataset/data/train'"
   ]
  },
  {
   "cell_type": "code",
   "execution_count": 0,
   "metadata": {
    "colab": {},
    "colab_type": "code",
    "id": "BjwRgVUo4pX5"
   },
   "outputs": [],
   "source": [
    "img_width = 32\n",
    "img_height = 32\n",
    "batch_size = 20"
   ]
  },
  {
   "cell_type": "code",
   "execution_count": 0,
   "metadata": {
    "colab": {},
    "colab_type": "code",
    "id": "SnuVs6Al4xbf"
   },
   "outputs": [],
   "source": [
    "  datagen = ImageDataGenerator(rescale=1./255)"
   ]
  },
  {
   "cell_type": "code",
   "execution_count": 9,
   "metadata": {
    "colab": {
     "base_uri": "https://localhost:8080/",
     "height": 35
    },
    "colab_type": "code",
    "id": "5ZWZCzBb487E",
    "outputId": "19380d12-ce7e-4b09-845e-75e46aa54a48"
   },
   "outputs": [
    {
     "name": "stdout",
     "output_type": "stream",
     "text": [
      "Found 20000 images belonging to 2 classes.\n"
     ]
    }
   ],
   "source": [
    "train_genrator = datagen.flow_from_directory(directory=train_data_dir,\n",
    "                                             target_size=(img_height,img_width),\n",
    "                                             classes =['dogs','cats'],\n",
    "                                             class_mode='binary',\n",
    "                                             batch_size=batch_size)\n"
   ]
  },
  {
   "cell_type": "code",
   "execution_count": 10,
   "metadata": {
    "colab": {
     "base_uri": "https://localhost:8080/",
     "height": 35
    },
    "colab_type": "code",
    "id": "GWfgJVyo5sNV",
    "outputId": "d6d83aa0-4e7c-4827-868b-fea68c9c3bd3"
   },
   "outputs": [
    {
     "data": {
      "text/plain": [
       "array([0, 0, 0, ..., 1, 1, 1], dtype=int32)"
      ]
     },
     "execution_count": 10,
     "metadata": {
      "tags": []
     },
     "output_type": "execute_result"
    }
   ],
   "source": [
    "train_genrator.classes"
   ]
  },
  {
   "cell_type": "code",
   "execution_count": 16,
   "metadata": {
    "colab": {
     "base_uri": "https://localhost:8080/",
     "height": 35
    },
    "colab_type": "code",
    "id": "ZF8oDFx_50_K",
    "outputId": "65eaf7dc-81d9-44e4-e1f1-9ea54b3b0f27"
   },
   "outputs": [
    {
     "name": "stdout",
     "output_type": "stream",
     "text": [
      "Found 5000 images belonging to 2 classes.\n"
     ]
    }
   ],
   "source": [
    "validation_genrator = datagen.flow_from_directory(directory=test_data_dir,\n",
    "                                            target_size=(img_height,img_width),\n",
    "                                            classes=['dogs','cats'],\n",
    "                                            class_mode='binary',\n",
    "                                            batch_size=batch_size)\n"
   ]
  },
  {
   "cell_type": "code",
   "execution_count": 0,
   "metadata": {
    "colab": {},
    "colab_type": "code",
    "id": "BcQLWPOH6J4G"
   },
   "outputs": [],
   "source": []
  },
  {
   "cell_type": "code",
   "execution_count": 0,
   "metadata": {
    "colab": {},
    "colab_type": "code",
    "id": "pGRCFyqd6Rh-"
   },
   "outputs": [],
   "source": [
    "## Build CNN Base Model"
   ]
  },
  {
   "cell_type": "code",
   "execution_count": 0,
   "metadata": {
    "colab": {},
    "colab_type": "code",
    "id": "swSi3UAT6bUr"
   },
   "outputs": [],
   "source": [
    "model =  Sequential()\n",
    "model.add(Conv2D(filters=64, kernel_size=(3,3),activation='relu',padding='same',kernel_initializer='he_uniform',\n",
    "                 input_shape=(img_width,img_height,3)))\n",
    "model.add(MaxPool2D(2,2))\n",
    "\n",
    "model.add(Flatten())\n",
    "model.add(Dense(128,activation='relu',kernel_initializer='he_uniform'))\n",
    "model.add(Dense(1,activation='sigmoid'))"
   ]
  },
  {
   "cell_type": "code",
   "execution_count": 0,
   "metadata": {
    "colab": {},
    "colab_type": "code",
    "id": "crFm5X4H7oyJ"
   },
   "outputs": [],
   "source": [
    "opt = SGD(learning_rate=0.01,momentum=0.9)\n",
    "model.compile(optimizer=opt,loss = 'binary_crossentropy',metrics=['accuracy'])"
   ]
  },
  {
   "cell_type": "code",
   "execution_count": 18,
   "metadata": {
    "colab": {
     "base_uri": "https://localhost:8080/",
     "height": 263
    },
    "colab_type": "code",
    "id": "7wOw99gH78fh",
    "outputId": "c8032bf5-bf75-45e6-e75f-e823be87408f"
   },
   "outputs": [
    {
     "name": "stdout",
     "output_type": "stream",
     "text": [
      "Epoch 1/5\n",
      "WARNING:tensorflow:From /usr/local/lib/python3.6/dist-packages/tensorflow_core/python/ops/math_grad.py:1394: where (from tensorflow.python.ops.array_ops) is deprecated and will be removed in a future version.\n",
      "Instructions for updating:\n",
      "Use tf.where in 2.0, which has the same broadcast rule as np.where\n",
      "1000/1000 [==============================] - 122s 122ms/step - loss: 0.6980 - accuracy: 0.5094 - val_loss: 0.6931 - val_accuracy: 0.5010\n",
      "Epoch 2/5\n",
      "1000/1000 [==============================] - 121s 121ms/step - loss: 0.6808 - accuracy: 0.5534 - val_loss: 0.6559 - val_accuracy: 0.6162\n",
      "Epoch 3/5\n",
      "1000/1000 [==============================] - 121s 121ms/step - loss: 0.6245 - accuracy: 0.6549 - val_loss: 0.5635 - val_accuracy: 0.7162\n",
      "Epoch 4/5\n",
      "1000/1000 [==============================] - 122s 122ms/step - loss: 0.5451 - accuracy: 0.7255 - val_loss: 0.5397 - val_accuracy: 0.7308\n",
      "Epoch 5/5\n",
      "1000/1000 [==============================] - 123s 123ms/step - loss: 0.5001 - accuracy: 0.7556 - val_loss: 0.5668 - val_accuracy: 0.7238\n"
     ]
    }
   ],
   "source": [
    "history = model.fit_generator(generator=train_genrator, steps_per_epoch=len(train_genrator),epochs=5,\n",
    "                              validation_data=validation_genrator,validation_steps=len(validation_genrator),verbose=1)"
   ]
  },
  {
   "cell_type": "code",
   "execution_count": 0,
   "metadata": {
    "colab": {},
    "colab_type": "code",
    "id": "f_G80cfz8p_7"
   },
   "outputs": [],
   "source": [
    "def plot_learningCurve(history):\n",
    "  #Plot training and validation accuracy\n",
    "  epoch_range = range(1,6)\n",
    "  plt.plot(epoch_range, history.history['accuracy'])\n",
    "  plt.plot(epoch_range, history.history['val_accuracy'])\n",
    "  plt.title('Model Acuuracy')\n",
    "  plt.ylabel('Accuracy')\n",
    "  plt.xlabel('Epoch')\n",
    "  plt.legend(['Train','Val'],loc = 'upper left')\n",
    "  plt.show()\n",
    "\n",
    "  #Plot trainning and valiation loss\n",
    "  plt.plot(epoch_range, history.history['loss'])\n",
    "  plt.plot(epoch_range, history.history['val_loss'])\n",
    "  plt.title('Model Loss')\n",
    "  plt.ylabel('Loss')\n",
    "  plt.xlabel('Epoch')\n",
    "  plt.legend(['Train','Val'],loc='upper left')\n",
    "  plt.show()"
   ]
  },
  {
   "cell_type": "code",
   "execution_count": 22,
   "metadata": {
    "colab": {
     "base_uri": "https://localhost:8080/",
     "height": 573
    },
    "colab_type": "code",
    "id": "nN8Js6oz-wTu",
    "outputId": "e4741024-250f-4fdf-8e7c-8308fe4d4878"
   },
   "outputs": [
    {
     "data": {
      "image/png": "[encoded data removed]",
      "text/plain": [
       "<Figure size 432x288 with 1 Axes>"
      ]
     },
     "metadata": {
      "tags": []
     },
     "output_type": "display_data"
    },
    {
     "data": {
      "image/png": "[encoded data removed]",
      "text/plain": [
       "<Figure size 432x288 with 1 Axes>"
      ]
     },
     "metadata": {
      "tags": []
     },
     "output_type": "display_data"
    }
   ],
   "source": [
    "plot_learningCurve(history)"
   ]
  },
  {
   "cell_type": "code",
   "execution_count": 0,
   "metadata": {
    "colab": {},
    "colab_type": "code",
    "id": "neTbJcGV_DgA"
   },
   "outputs": [],
   "source": [
    "## Impliment First 3 Blocks of VGG16 Model"
   ]
  },
  {
   "cell_type": "code",
   "execution_count": 0,
   "metadata": {
    "colab": {},
    "colab_type": "code",
    "id": "aAaJhL07_M4U"
   },
   "outputs": [],
   "source": [
    "model = Sequential()\n",
    "model.add(Conv2D(filters=64, kernel_size=(3,3),padding='same',activation='relu',kernel_initializer='he_uniform',\n",
    "                 input_shape=(img_width,img_height,3)))\n",
    "model.add(MaxPool2D(2,2))\n",
    "\n",
    "model.add(Conv2D(filters=128,kernel_size=(3,3),padding='same',activation='relu',kernel_initializer='he_uniform'\n",
    "                 ))\n",
    "model.add(MaxPool2D(2,2))\n",
    "\n",
    "model.add(Conv2D(filters=256, kernel_size=(3,3),padding='same',activation='relu',kernel_initializer='he_uniform'))\n",
    "model.add(MaxPool2D(2,2))\n",
    "\n",
    "model.add(Flatten())\n",
    "model.add(Dense(128,activation='relu',kernel_initializer='he_uniform'))\n",
    "\n",
    "model.add(Dense(1,activation='sigmoid'))"
   ]
  },
  {
   "cell_type": "code",
   "execution_count": 0,
   "metadata": {
    "colab": {},
    "colab_type": "code",
    "id": "dQ_sQ65BBAYA"
   },
   "outputs": [],
   "source": [
    "opt = SGD(learning_rate=0.01,momentum=0.9)\n",
    "model.compile(optimizer=opt, loss='binary_crossentropy',metrics=['accuracy'])"
   ]
  },
  {
   "cell_type": "code",
   "execution_count": 26,
   "metadata": {
    "colab": {
     "base_uri": "https://localhost:8080/",
     "height": 191
    },
    "colab_type": "code",
    "id": "oscvasUIBRl3",
    "outputId": "87eafd8e-073e-4df6-b626-8b97ce6bf6ec"
   },
   "outputs": [
    {
     "name": "stdout",
     "output_type": "stream",
     "text": [
      "Epoch 1/5\n",
      "1000/1000 [==============================] - 258s 258ms/step - loss: 0.6378 - accuracy: 0.6327 - val_loss: 0.6623 - val_accuracy: 0.6592\n",
      "Epoch 2/5\n",
      "1000/1000 [==============================] - 254s 254ms/step - loss: 0.5154 - accuracy: 0.7476 - val_loss: 0.5087 - val_accuracy: 0.7442\n",
      "Epoch 3/5\n",
      "1000/1000 [==============================] - 251s 251ms/step - loss: 0.4650 - accuracy: 0.7800 - val_loss: 0.4525 - val_accuracy: 0.7842\n",
      "Epoch 4/5\n",
      "1000/1000 [==============================] - 256s 256ms/step - loss: 0.4152 - accuracy: 0.8098 - val_loss: 0.4476 - val_accuracy: 0.7920\n",
      "Epoch 5/5\n",
      "1000/1000 [==============================] - 257s 257ms/step - loss: 0.3714 - accuracy: 0.8346 - val_loss: 0.4732 - val_accuracy: 0.7856\n"
     ]
    }
   ],
   "source": [
    "history = model.fit_generator(generator=train_genrator, steps_per_epoch=len(train_genrator),epochs = 5 ,\n",
    "                              validation_data=validation_genrator, validation_steps=len(validation_genrator),verbose=1)"
   ]
  },
  {
   "cell_type": "code",
   "execution_count": 0,
   "metadata": {
    "colab": {},
    "colab_type": "code",
    "id": "0I7CmDXqBmMx"
   },
   "outputs": [],
   "source": [
    "## Batch Normalization and Dropout"
   ]
  },
  {
   "cell_type": "code",
   "execution_count": 0,
   "metadata": {
    "colab": {},
    "colab_type": "code",
    "id": "mdqNZWQ9Ghhv"
   },
   "outputs": [],
   "source": [
    "model = Sequential()\n",
    "model.add(Conv2D(filters=64, kernel_size=(3,3), activation='relu', padding='same', kernel_initializer='he_uniform', \n",
    "                 input_shape = (img_width, img_height, 3)))\n",
    "model.add(BatchNormalization())\n",
    "model.add(MaxPool2D(2,2))\n",
    "model.add(Dropout(0.2))\n",
    "\n",
    "model = Sequential()\n",
    "model.add(Conv2D(filters=128, kernel_size=(3,3), activation='relu', padding='same', kernel_initializer='he_uniform'))\n",
    "model.add(BatchNormalization())\n",
    "model.add(MaxPool2D(2,2))\n",
    "model.add(Dropout(0.3))\n",
    "\n",
    "model = Sequential()\n",
    "model.add(Conv2D(filters=256, kernel_size=(3,3), activation='relu', padding='same', kernel_initializer='he_uniform'))\n",
    "model.add(BatchNormalization())\n",
    "model.add(MaxPool2D(2,2))\n",
    "model.add(Dropout(0.5))\n",
    "\n",
    "model.add(Flatten())\n",
    "model.add(Dense(128, activation='relu', kernel_initializer='he_uniform'))\n",
    "model.add(BatchNormalization())\n",
    "model.add(Dropout(0.5))\n",
    "\n",
    "model.add(Dense(1, activation='sigmoid'))\n"
   ]
  },
  {
   "cell_type": "code",
   "execution_count": 0,
   "metadata": {
    "colab": {},
    "colab_type": "code",
    "id": "1kUpYCD_G3-n"
   },
   "outputs": [],
   "source": [
    "opt = SGD(learning_rate=0.01, momentum=0.9)\n",
    "model.compile(optimizer=opt, loss='binary_crossentropy', metrics=['accuracy'])"
   ]
  },
  {
   "cell_type": "code",
   "execution_count": 34,
   "metadata": {
    "colab": {
     "base_uri": "https://localhost:8080/",
     "height": 364
    },
    "colab_type": "code",
    "id": "D5rbpAgtG6q0",
    "outputId": "5aa454a3-596e-46a6-e866-0f0a6ddf09af"
   },
   "outputs": [
    {
     "name": "stdout",
     "output_type": "stream",
     "text": [
      "Epoch 1/10\n",
      "1000/1000 [==============================] - 400s 400ms/step - loss: 0.6862 - accuracy: 0.6059 - val_loss: 0.6983 - val_accuracy: 0.5946\n",
      "Epoch 2/10\n",
      "1000/1000 [==============================] - 377s 377ms/step - loss: 0.6030 - accuracy: 0.6849 - val_loss: 0.5662 - val_accuracy: 0.7086\n",
      "Epoch 3/10\n",
      "1000/1000 [==============================] - 381s 381ms/step - loss: 0.5621 - accuracy: 0.7236 - val_loss: 0.5350 - val_accuracy: 0.7362\n",
      "Epoch 4/10\n",
      "1000/1000 [==============================] - 384s 384ms/step - loss: 0.5342 - accuracy: 0.7377 - val_loss: 0.5250 - val_accuracy: 0.7430\n",
      "Epoch 5/10\n",
      "1000/1000 [==============================] - 383s 383ms/step - loss: 0.5172 - accuracy: 0.7555 - val_loss: 0.5143 - val_accuracy: 0.7434\n",
      "Epoch 6/10\n",
      "1000/1000 [==============================] - 385s 385ms/step - loss: 0.5021 - accuracy: 0.7527 - val_loss: 0.5115 - val_accuracy: 0.7534\n",
      "Epoch 7/10\n",
      "1000/1000 [==============================] - 391s 391ms/step - loss: 0.4915 - accuracy: 0.7638 - val_loss: 0.5176 - val_accuracy: 0.7448\n",
      "Epoch 8/10\n",
      "1000/1000 [==============================] - 379s 379ms/step - loss: 0.4736 - accuracy: 0.7725 - val_loss: 0.4936 - val_accuracy: 0.7664\n",
      "Epoch 9/10\n",
      "1000/1000 [==============================] - 393s 393ms/step - loss: 0.4595 - accuracy: 0.7842 - val_loss: 0.4912 - val_accuracy: 0.7670\n",
      "Epoch 10/10\n",
      "1000/1000 [==============================] - 389s 389ms/step - loss: 0.4503 - accuracy: 0.7854 - val_loss: 0.5486 - val_accuracy: 0.7318\n"
     ]
    }
   ],
   "source": [
    "history = model.fit_generator(generator=train_genrator, steps_per_epoch=len(train_genrator), epochs = 10, validation_data=validation_genrator, \n",
    "                              validation_steps=len(validation_genrator), verbose = 1)"
   ]
  },
  {
   "cell_type": "code",
   "execution_count": 0,
   "metadata": {
    "colab": {},
    "colab_type": "code",
    "id": "8J9EFRWQG8Vj"
   },
   "outputs": [],
   "source": [
    "def plot_learningCurve(history, epoch):\n",
    "  # Plot training & validation accuracy values\n",
    "  epoch_range = range(1, epoch+1)\n",
    "  plt.plot(epoch_range, history.history['accuracy'])\n",
    "  plt.plot(epoch_range, history.history['val_accuracy'])\n",
    "  plt.title('Model accuracy')\n",
    "  plt.ylabel('Accuracy')\n",
    "  plt.xlabel('Epoch')\n",
    "  plt.legend(['Train', 'Val'], loc='upper left')\n",
    "  plt.show()\n",
    "\n",
    "  # Plot training & validation loss values\n",
    "  plt.plot(epoch_range, history.history['loss'])\n",
    "  plt.plot(epoch_range, history.history['val_loss'])\n",
    "  plt.title('Model loss')\n",
    "  plt.ylabel('Loss')\n",
    "  plt.xlabel('Epoch')\n",
    "  plt.legend(['Train', 'Val'], loc='upper left')\n",
    "  plt.show()"
   ]
  },
  {
   "cell_type": "code",
   "execution_count": 36,
   "metadata": {
    "colab": {
     "base_uri": "https://localhost:8080/",
     "height": 573
    },
    "colab_type": "code",
    "id": "r14xzpduHNKR",
    "outputId": "f77f747e-3926-487a-d83c-16c6dadb928a"
   },
   "outputs": [
    {
     "data": {
      "image/png": "[encoded data removed]",
      "text/plain": [
       "<Figure size 432x288 with 1 Axes>"
      ]
     },
     "metadata": {
      "tags": []
     },
     "output_type": "display_data"
    },
    {
     "data": {
      "image/png": "[encoded data removed]",
      "text/plain": [
       "<Figure size 432x288 with 1 Axes>"
      ]
     },
     "metadata": {
      "tags": []
     },
     "output_type": "display_data"
    }
   ],
   "source": [
    "plot_learningCurve(history, 10)"
   ]
  },
  {
   "cell_type": "code",
   "execution_count": 0,
   "metadata": {
    "colab": {},
    "colab_type": "code",
    "id": "jzaGo-M8WPkS"
   },
   "outputs": [],
   "source": []
  }
 ],
 "metadata": {
  "colab": {
   "collapsed_sections": [],
   "name": "CNN Cats-vs-dogs-by-VGG16-Dropout-and batch normalisation.ipynb",
   "provenance": []
  },
  "kernelspec": {
   "display_name": "Python 3",
   "language": "python",
   "name": "python3"
  },
  "language_info": {
   "codemirror_mode": {
    "name": "ipython",
    "version": 3
   },
   "file_extension": ".py",
   "mimetype": "text/x-python",
   "name": "python",
   "nbconvert_exporter": "python",
   "pygments_lexer": "ipython3",
   "version": "3.7.3"
  }
 },
 "nbformat": 4,
 "nbformat_minor": 1
}
